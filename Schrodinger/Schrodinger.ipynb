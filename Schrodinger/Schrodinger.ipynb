{
 "cells": [
  {
   "cell_type": "markdown",
   "id": "e4d33343",
   "metadata": {},
   "source": [
    "<center> <h1> Resolución de ecuaciones en derivadas parciales: la ecuación de Schrödinger </h1> </center>\n",
    "\n",
    "## Descripción del problema\n",
    "\n",
    "Este informe detalla el estudio del efecto túnel y la resolución de la evolución temporal de una función de onda empleando la aproximación de Cayley para dsicretizar el problema y un método de resolución para matrices tridiagonales. Para ello se ha creado un programa en <code> C++ </code> para llevar a cabo la simulación mientras que el análisis se ha llevado a cabo con scripts de <code> Python </code>. \n",
    "\n",
    "La finalidad del problema es calcular el estado de una función de onda unidimensional atrapada en una caja (paredes de potencial infinito) con un potencial cuadrado dentro y observar la interacción de la función de onda con el potencial mediante el efecto túnel.\n",
    "\n",
    "### Conservación de la norma\n",
    "\n",
    "Al ser el operador hamiltoniano un operador unitario, al aplicarlo para calcular la evolución temporal, la norma de la función de onda debería conservarse. Una variación significativa en la norma con el tiempo es muestra de una falla grave en la simulación, por lo que para monitorizar la calidad de esta se ha animado cómo evoluciona la norma de la función de onda normalizada con el tiempo. \n",
    "\n",
    "<img src=\"Animacion_con_norma.gif\" \n",
    "     alt=\"Conservación de la norma\"\n",
    "     style=\"display:block; margin:25px auto; max-width:85%; border:1px solid #ddd\">\n",
    "\n",
    "Como se muestra en la animación la norma se conserva a la perfección, idicador de que la correcta implementación de los algoritmos de evolución y de la validez de la aproximación de Cayley."
   ]
  },
  {
   "cell_type": "markdown",
   "id": "31b152cd",
   "metadata": {},
   "source": [
    "\n",
    "## Optimización y paralelización del programa\n",
    "\n",
    "Para el análisis de la optimización y la paralelización del código se ha empleado la librería <code> <omp.h> </code>"
   ]
  },
  {
   "cell_type": "markdown",
   "id": "fa7e1b98",
   "metadata": {},
   "source": []
  }
 ],
 "metadata": {
  "language_info": {
   "name": "python"
  }
 },
 "nbformat": 4,
 "nbformat_minor": 5
}
