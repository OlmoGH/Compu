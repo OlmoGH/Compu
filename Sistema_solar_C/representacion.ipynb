{
 "cells": [
  {
   "cell_type": "markdown",
   "id": "319c6c08",
   "metadata": {},
   "source": [
    "Importamos las librerías necesarias"
   ]
  },
  {
   "cell_type": "code",
   "execution_count": null,
   "id": "d301e1d7",
   "metadata": {},
   "outputs": [],
   "source": [
    "import numpy as np\n",
    "import matplotlib.pyplot as plt\n",
    "from matplotlib.animation import FuncAnimation\n",
    "import pandas as pd"
   ]
  },
  {
   "cell_type": "markdown",
   "id": "88343da3",
   "metadata": {},
   "source": [
    "Definimos los parámetros de la representación\n",
    "- Número de cuerpos\n",
    "- Factor de velocidad (número de frames que se salta)\n",
    "- Nombres de los cuerpos"
   ]
  },
  {
   "cell_type": "code",
   "execution_count": null,
   "id": "21291eae",
   "metadata": {},
   "outputs": [],
   "source": [
    "cuerpos = 10\n",
    "factor = 100\n",
    "nombres = ['Sol', 'Mercurio', 'Venus', 'Tierra', 'Marte',\n",
    "            'Júpiter', 'Saturno', 'Urano', 'Neptuno', 'Plutón']"
   ]
  },
  {
   "cell_type": "markdown",
   "id": "0ff464f1",
   "metadata": {},
   "source": [
    "Creamos las figuras y ejes que vamos a emplear en la representación gráfica"
   ]
  },
  {
   "cell_type": "code",
   "execution_count": null,
   "id": "070d3d1d",
   "metadata": {},
   "outputs": [],
   "source": [
    "fig, ax = plt.subplots(figsize=(8, 8))\n",
    "fig2, ax2 = plt.subplots(ncols=2)\n",
    "# Configurar límites y proporciones\n",
    "ax2[0].set_xlim(0, len(energia_total))\n",
    "ax2[1].set_xlim(0, len(momento_total))\n",
    "ax2[0].set_ylim(min(energia_total), max(energia_total))\n",
    "ax2[1].set_ylim(min(momento_total), max(momento_total))\n",
    "ax.set_xlim(-50, 50)\n",
    "ax.set_ylim(-50, 50)\n",
    "ax.set_aspect('equal')\n",
    "ax.set_xlabel(\"x (UA)\")\n",
    "ax.set_ylabel(\"y (UA)\")\n",
    "ax.set_title(\"Órbitas de los planetas\")\n",
    "ax.grid(True)\n",
    "ax.legend(loc='upper right')"
   ]
  },
  {
   "cell_type": "markdown",
   "id": "bbda2dc1",
   "metadata": {},
   "source": [
    "Leemos los datos de los ficheros"
   ]
  },
  {
   "cell_type": "code",
   "execution_count": null,
   "id": "8cc55726",
   "metadata": {},
   "outputs": [],
   "source": [
    "posiciones = {}\n",
    "momentos = {}\n",
    "energias = {}\n",
    "for i in range(cuerpos):\n",
    "    name_pos = f\"Datos_cuerpos/cuerpo_{i}.txt\"\n",
    "    name_momento = f\"Datos_cuerpos/momentos_{i}.txt\"\n",
    "    name_energia = f\"Datos_cuerpos/energia_{i}.txt\"\n",
    "    posiciones[i] = pd.read_csv(name_pos, delimiter='\\t', header=0, names=['x', 'y'])\n",
    "    momentos[i] = pd.read_csv(name_momento, delimiter='\\t', header=0)\n",
    "    energias[i] = pd.read_csv(name_energia, delimiter='\\t', header=0)\n"
   ]
  },
  {
   "cell_type": "markdown",
   "id": "b447f19e",
   "metadata": {},
   "source": [
    "Definimos la energías y momento angular totales como la suma de todos los datos de energía y momento angular"
   ]
  },
  {
   "cell_type": "code",
   "execution_count": null,
   "id": "9506d06a",
   "metadata": {},
   "outputs": [],
   "source": [
    "energia_total = np.zeros(len(energias[0]))\n",
    "momento_total = np.zeros(len(momentos[0]))\n",
    "for i in range(1, cuerpos):\n",
    "    energia_total += energias[i].values.flatten()\n",
    "    momento_total += momentos[i].values.flatten()"
   ]
  },
  {
   "cell_type": "markdown",
   "id": "36b8cb99",
   "metadata": {},
   "source": [
    "Inicializamos las trayectorias y posiciones de los planetas en la animación"
   ]
  },
  {
   "cell_type": "code",
   "execution_count": null,
   "id": "a4f73055",
   "metadata": {},
   "outputs": [],
   "source": [
    "# Crear puntos (círculos) para cada planeta\n",
    "trayectorias = []\n",
    "planetas = []\n",
    "for i in range(cuerpos):\n",
    "    (planeta,) = ax.plot([], [], 'o', label=nombres[i])\n",
    "    planetas.append(planeta)\n",
    "    (trayectoria,) = ax.plot([], [], '-')\n",
    "    trayectorias.append(trayectoria)\n",
    "\n",
    "\n",
    "# Función de inicialización\n",
    "def init():\n",
    "    for planeta, trayectoria in zip(planetas, trayectorias):\n",
    "        planeta.set_data([], [])\n",
    "        trayectoria.set_data([], [])\n",
    "    return trayectorias + planetas"
   ]
  },
  {
   "cell_type": "markdown",
   "id": "9010b994",
   "metadata": {},
   "source": [
    "Inicializamos las gráficas de la energía mecánica total y el momento angular total"
   ]
  },
  {
   "cell_type": "code",
   "execution_count": null,
   "id": "40bec3a2",
   "metadata": {},
   "outputs": [],
   "source": [
    "energia, = ax2[0].plot([], [], 'r-')\n",
    "momento, = ax2[1].plot([], [], 'b-')\n",
    "\n",
    "def init2():\n",
    "    energia.set_data([], [])\n",
    "    momento.set_data([], [])\n",
    "    return energia, momento"
   ]
  },
  {
   "cell_type": "markdown",
   "id": "e2c15f0c",
   "metadata": {},
   "source": [
    "Definimos las funciones de actualización de la animación"
   ]
  },
  {
   "cell_type": "code",
   "execution_count": null,
   "id": "d79f154b",
   "metadata": {},
   "outputs": [],
   "source": [
    "def update(frame):\n",
    "    frame = factor * frame\n",
    "    for i in range(cuerpos):\n",
    "        x = posiciones[i].x[frame]\n",
    "        y = posiciones[i].y[frame]\n",
    "        planetas[i].set_data([x], [y])  # Usamos listas para que funcione\n",
    "        trayectorias[i].set_data(posiciones[i].x[:frame], posiciones[i].y[:frame])\n",
    "    return planetas + trayectorias\n",
    "\n",
    "def update2(frame):\n",
    "    frame = factor * frame\n",
    "    energia.set_data(np.arange(frame), energia_total[:frame])\n",
    "    momento.set_data(np.arange(frame), momento_total[:frame])\n",
    "    return energia + momento"
   ]
  },
  {
   "cell_type": "markdown",
   "id": "3331a4ae",
   "metadata": {},
   "source": [
    "Generamos las dos animaciones, tanto para los planetas como para las energías y momentos"
   ]
  },
  {
   "cell_type": "code",
   "execution_count": null,
   "id": "6332bf41",
   "metadata": {},
   "outputs": [],
   "source": [
    "frames = len(posiciones[0])//factor\n",
    "anim = FuncAnimation(fig, update, init_func=init, frames=frames, blit=True, interval=20)"
   ]
  },
  {
   "cell_type": "code",
   "execution_count": null,
   "id": "0be30d3a",
   "metadata": {},
   "outputs": [],
   "source": [
    "frames = len(posiciones[0])//factor\n",
    "anim2 = FuncAnimation(fig2, update2, init_func=init2, frames=frames, blit=True, interval=20)"
   ]
  },
  {
   "cell_type": "code",
   "execution_count": null,
   "id": "b73d39a0",
   "metadata": {},
   "outputs": [],
   "source": [
    "anim.save(\"animacion_orbitas.mp4\", writer=\"ffmpeg\")"
   ]
  }
 ],
 "metadata": {
  "kernelspec": {
   "display_name": "Python (.conda)",
   "language": "python",
   "name": ".conda"
  },
  "language_info": {
   "codemirror_mode": {
    "name": "ipython",
    "version": 3
   },
   "file_extension": ".py",
   "mimetype": "text/x-python",
   "name": "python",
   "nbconvert_exporter": "python",
   "pygments_lexer": "ipython3",
   "version": "3.12.8"
  }
 },
 "nbformat": 4,
 "nbformat_minor": 5
}
